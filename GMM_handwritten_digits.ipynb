{
 "cells": [
  {
   "cell_type": "markdown",
   "id": "5e56247c",
   "metadata": {},
   "source": [
    "# GMM for handwritten digits recognition and generation"
   ]
  },
  {
   "cell_type": "code",
   "execution_count": 1,
   "id": "95f48d06",
   "metadata": {},
   "outputs": [],
   "source": [
    "import numpy as np\n",
    "import matplotlib.pyplot as plt\n",
    "from matplotlib.patches import Ellipse\n",
    "from sklearn.datasets import load_digits\n",
    "from sklearn.model_selection import train_test_split\n",
    "from sklearn.decomposition import PCA\n",
    "from sklearn.mixture import BayesianGaussianMixture\n",
    "from sklearn.mixture import GaussianMixture"
   ]
  },
  {
   "cell_type": "markdown",
   "id": "39800af2",
   "metadata": {},
   "source": [
    "## Importing the dataset"
   ]
  },
  {
   "cell_type": "code",
   "execution_count": 2,
   "id": "3cd591e3",
   "metadata": {},
   "outputs": [
    {
     "data": {
      "image/png": "[encoded data removed]",
      "text/plain": [
       "<Figure size 500x600 with 25 Axes>"
      ]
     },
     "metadata": {},
     "output_type": "display_data"
    }
   ],
   "source": [
    "digits = load_digits()\n",
    "fig, axs = plt.subplots(5, 5, figsize=(5,6))\n",
    "idxs = np.random.choice(digits.data.shape[0], 25)\n",
    "\n",
    "for i, idx in enumerate(idxs):\n",
    "    ax = axs[i//5,i%5]\n",
    "    ax.tick_params(left = False, right = False , labelleft = False ,\n",
    "                labelbottom = False, bottom = False)\n",
    "    ax.imshow(digits.images[idx], cmap=\"gray\")\n",
    "    ax.set_title(digits.target[idx])\n",
    "    \n",
    "plt.show()"
   ]
  },
  {
   "cell_type": "markdown",
   "id": "8e758fa2",
   "metadata": {},
   "source": [
    "## Partitioning the dataset"
   ]
  },
  {
   "cell_type": "code",
   "execution_count": 3,
   "id": "5eb17ccb",
   "metadata": {},
   "outputs": [],
   "source": [
    "train_data, test_data, train_target, test_target = train_test_split(digits.data, digits.target, test_size=0.2,\n",
    "                                                    random_state=0, stratify=digits.target)"
   ]
  },
  {
   "cell_type": "markdown",
   "id": "9e4dc58f",
   "metadata": {},
   "source": [
    "## Applying PCA for dimensionality reduction"
   ]
  },
  {
   "cell_type": "code",
   "execution_count": 4,
   "id": "7d93f1df",
   "metadata": {},
   "outputs": [],
   "source": [
    "pca = PCA(n_components = 30)"
   ]
  },
  {
   "cell_type": "code",
   "execution_count": 5,
   "id": "7163bd4e",
   "metadata": {},
   "outputs": [],
   "source": [
    "low_dimensional_train_data = pca.fit_transform(train_data)\n",
    "low_dimensional_test_data = pca.transform(test_data)"
   ]
  },
  {
   "cell_type": "code",
   "execution_count": 6,
   "id": "8a27de87",
   "metadata": {},
   "outputs": [
    {
     "name": "stdout",
     "output_type": "stream",
     "text": [
      "Amount of variance captured: 96%\n"
     ]
    }
   ],
   "source": [
    "print(f\"Amount of variance captured: {round(sum(pca.explained_variance_ratio_*100))}%\")"
   ]
  },
  {
   "cell_type": "markdown",
   "id": "8c93f27c",
   "metadata": {},
   "source": [
    "## GMM Clustering on the low dimensional data"
   ]
  },
  {
   "cell_type": "markdown",
   "id": "a6c59ab3",
   "metadata": {},
   "source": [
    "### Choosing the number of components in order to maximize the test accuracy"
   ]
  },
  {
   "cell_type": "code",
   "execution_count": 7,
   "id": "207e34c8",
   "metadata": {},
   "outputs": [],
   "source": [
    "def get_cluster_to_digit_mapping(i, target, labels):\n",
    "    \"\"\"\n",
    "    Returns the digit corresponding to a given cluster index.\n",
    "    \"\"\"\n",
    "    cluster_labels = target[labels == i]\n",
    "    values, counts = np.unique(cluster_labels, return_counts=True)\n",
    "    return values[counts.argmax()]"
   ]
  },
  {
   "cell_type": "code",
   "execution_count": null,
   "id": "dc97bb1d",
   "metadata": {},
   "outputs": [],
   "source": [
    "def get_prediction_accuracy(n_components, dp=False):\n",
    "    \"\"\"\n",
    "    Returns the prediction accuracy for the test\n",
    "    and train data given the number of components of the GMM.\n",
    "    \"\"\"\n",
    "    if dp:\n",
    "        gm = BayesianGaussianMixture(n_components = n_components, random_state=12345).fit(low_dimensional_train_data)\n",
    "    else:\n",
    "        gm = GaussianMixture(n_components = n_components, random_state=12345).fit(low_dimensional_train_data)\n",
    "    prediction_train = gm.predict(low_dimensional_train_data)\n",
    "    label_to_digit = np.array([get_cluster_to_digit_mapping(i, train_target, prediction_train)\n",
    "                                for i in range(gm.n_components)])\n",
    "    digits_prediction_train = np.take(label_to_digit, prediction_train)\n",
    "    train_accuracy = sum(train_target == digits_prediction_train) / train_target.shape[0]\n",
    "    \n",
    "    prediction_test = gm.predict(low_dimensional_test_data)\n",
    "    digits_prediction_test = np.take(label_to_digit, prediction_test)\n",
    "    test_accuracy = sum(test_target == digits_prediction_test) / test_target.shape[0]\n",
    "    return train_accuracy, test_accuracy\n",
    "\n",
    "vectorized_get_prediction_accuracy = np.vectorize(get_prediction_accuracy)\n",
    "\n",
    "n_components = np.arange(10, 1000, 40, dtype=\"object\")\n",
    "train_accuracies, test_accuracies = vectorized_get_prediction_accuracy(n_components)"
   ]
  },
  {
   "cell_type": "code",
   "execution_count": null,
   "id": "d9974c73",
   "metadata": {
    "scrolled": true
   },
   "outputs": [],
   "source": [
    "fig, ax = plt.subplots(figsize=(7, 3))\n",
    "ax.plot(n_components, train_accuracies, c=\"green\", label = \"Train accuracy\") \n",
    "ax.plot(n_components, test_accuracies, c=\"red\", label = \"Test accuracy\") \n",
    "ax.legend(bbox_to_anchor=(0,1,1,.1),ncol=2,\n",
    "          mode=\"expand\",  loc=\"lower left\")\n",
    "_ = ax.set_ylabel(\"Accuracy\")\n",
    "_ = ax.set_xlabel(\"Number of components\")\n",
    "fig.savefig(\"fitting.png\")"
   ]
  },
  {
   "cell_type": "markdown",
   "id": "18833699",
   "metadata": {},
   "source": [
    "The test accuracy drops but then grows again. "
   ]
  },
  {
   "cell_type": "code",
   "execution_count": null,
   "id": "33a95a00",
   "metadata": {},
   "outputs": [],
   "source": [
    "gm = BayesianGaussianMixture(n_components=1000, random_state=12345).fit(low_dimensional_train_data)"
   ]
  },
  {
   "cell_type": "code",
   "execution_count": null,
   "id": "ce4bae85",
   "metadata": {},
   "outputs": [],
   "source": [
    "prediction_train = gm.predict(low_dimensional_train_data)\n",
    "label_to_digit = np.array([get_cluster_to_digit_mapping(i, train_target, prediction_train) for i in range(gm.n_components)])"
   ]
  },
  {
   "cell_type": "markdown",
   "id": "2dff1c3b",
   "metadata": {},
   "source": [
    "### Visualizing the model in 2D"
   ]
  },
  {
   "cell_type": "code",
   "execution_count": null,
   "id": "58771236",
   "metadata": {},
   "outputs": [],
   "source": [
    "pca_2d = PCA(n_components = 2)\n",
    "train_data_2d = pca_2d.fit_transform(low_dimensional_train_data)\n",
    "covariances_2d = pca_2d.components_ @ gm.covariances_ @ pca_2d.components_.T\n",
    "means_2d = gm.means_ @ pca_2d.components_.T"
   ]
  },
  {
   "cell_type": "code",
   "execution_count": null,
   "id": "a0402480",
   "metadata": {},
   "outputs": [],
   "source": [
    "def draw_ellipse(position, covariance, ax=None, **kwargs):\n",
    "    \"\"\"Draw an ellipse with a given position and covariance\"\"\"\n",
    "    ax = ax or plt.gca()\n",
    "    \n",
    "    # Convert covariance to principal axes\n",
    "    if covariance.shape == (2, 2):\n",
    "        U, s, Vt = np.linalg.svd(covariance)\n",
    "        angle = np.degrees(np.arctan2(U[1, 0], U[0, 0]))\n",
    "        width, height = 2 * np.sqrt(s)\n",
    "    else:\n",
    "        angle = 0\n",
    "        width, height = 2 * np.sqrt(covariance)\n",
    "    \n",
    "    # Draw the Ellipse\n",
    "    for nsig in range(1, 5):\n",
    "        ax.add_patch(Ellipse(position, nsig * width, nsig * height,\n",
    "                             angle=angle, **kwargs))"
   ]
  },
  {
   "cell_type": "code",
   "execution_count": null,
   "id": "1e6c6d94",
   "metadata": {},
   "outputs": [],
   "source": [
    "fig, axs = plt.subplots(2, 5, figsize=(14,6), subplot_kw=dict(xlim = (-50, 50), ylim = (-50,50), aspect=\"equal\", adjustable=\"box\"))\n",
    "ax.scatter(*means_2d.T, c=label_to_digit, cmap=\"tab10\")\n",
    "\n",
    "w_factor = 0.2 / gm.weights_.max()\n",
    "cmap = plt.colormaps.get_cmap(\"tab10\")\n",
    "for i, (center, covariance, w) in enumerate(zip(means_2d, covariances_2d, gm.weights_)):\n",
    "    digit = label_to_digit[i]\n",
    "    ax = axs[digit//5, digit%5]\n",
    "    ax.set_title(f\"{digit}\", fontweight=\"bold\")\n",
    "    color = cmap.colors[digit]\n",
    "    draw_ellipse(center, covariance, ax = ax, alpha=w * w_factor, color = color)\n",
    "    #ax.scatter(*means_2d[i,:].T, color=color)\n",
    "plt.show()"
   ]
  },
  {
   "cell_type": "markdown",
   "id": "a09f5c6a",
   "metadata": {},
   "source": [
    "### Prediction of the model on the train data"
   ]
  },
  {
   "cell_type": "code",
   "execution_count": null,
   "id": "3737b719",
   "metadata": {},
   "outputs": [],
   "source": [
    "digits_prediction_train = np.take(label_to_digit, prediction_train)"
   ]
  },
  {
   "cell_type": "code",
   "execution_count": null,
   "id": "c76c12d2",
   "metadata": {},
   "outputs": [],
   "source": [
    "print(f\"Accuracy: {sum(train_target == digits_prediction_train) / train_target.shape[0]}\")"
   ]
  },
  {
   "cell_type": "code",
   "execution_count": null,
   "id": "e06423bc",
   "metadata": {},
   "outputs": [],
   "source": [
    "fig, axs = plt.subplots(1, 2, figsize = (10, 10))\n",
    "axs[0].set_aspect('equal', adjustable='box'), axs[1].set_aspect('equal', adjustable='box')\n",
    "\n",
    "axs[0].scatter(*train_data_2d.T, c=digits_prediction_train, cmap=\"tab10\", alpha=0.8)\n",
    "axs[1].scatter(*train_data_2d.T, c=train_target, cmap=\"tab10\", alpha=0.8)\n",
    "\n",
    "plt.show()"
   ]
  },
  {
   "cell_type": "markdown",
   "id": "55cc0db1",
   "metadata": {},
   "source": [
    "### Prediction of the model on the test data"
   ]
  },
  {
   "cell_type": "code",
   "execution_count": null,
   "id": "73778f80",
   "metadata": {},
   "outputs": [],
   "source": [
    "prediction_test = gm.predict(low_dimensional_test_data)\n",
    "digits_prediction_test = np.take(label_to_digit, prediction_test)"
   ]
  },
  {
   "cell_type": "code",
   "execution_count": null,
   "id": "e919ee8a",
   "metadata": {},
   "outputs": [],
   "source": [
    " print(f\"Accuracy: {sum(test_target == digits_prediction_test) / test_target.shape[0]}\")"
   ]
  },
  {
   "cell_type": "code",
   "execution_count": null,
   "id": "a95eea5a",
   "metadata": {},
   "outputs": [],
   "source": [
    "test_data_2d = pca_2d.fit_transform(low_dimensional_test_data)"
   ]
  },
  {
   "cell_type": "code",
   "execution_count": null,
   "id": "6f680dda",
   "metadata": {},
   "outputs": [],
   "source": [
    "fig, axs = plt.subplots(1, 2, figsize = (7, 7))\n",
    "axs[0].set_aspect('equal', adjustable='box'), axs[1].set_aspect('equal', adjustable='box')\n",
    "\n",
    "axs[0].scatter(*test_data_2d.T, c=digits_prediction_test, cmap=\"tab10\")\n",
    "axs[1].scatter(*test_data_2d.T, c=test_target, cmap=\"tab10\")\n",
    "plt.show()"
   ]
  },
  {
   "cell_type": "markdown",
   "id": "1017be70",
   "metadata": {},
   "source": [
    "## Generating new handwritten digits from the obtained model"
   ]
  },
  {
   "cell_type": "code",
   "execution_count": null,
   "id": "31d18a82",
   "metadata": {},
   "outputs": [],
   "source": [
    "low_dimensional_sample_data, sample_target = gm.sample(100)\n",
    "sample_data = pca.inverse_transform(low_dimensional_sample_data)\n",
    "sample_target = np.take(label_to_digit, sample_target)"
   ]
  },
  {
   "cell_type": "code",
   "execution_count": null,
   "id": "506c98b9",
   "metadata": {
    "scrolled": true
   },
   "outputs": [],
   "source": [
    "fig, axs = plt.subplots(5, 5, figsize=(5,6))\n",
    "idxs = np.random.choice(sample_data.shape[0], 25)\n",
    "\n",
    "for i, idx in enumerate(idxs):\n",
    "    ax = axs[i//5,i%5]\n",
    "    ax.tick_params(left = False, right = False , labelleft = False ,\n",
    "                labelbottom = False, bottom = False)\n",
    "    ax.imshow(sample_data[idx].reshape(8,8), cmap=\"gray\")\n",
    "    ax.set_title(sample_target[idx])\n",
    "    \n",
    "plt.show()"
   ]
  }
 ],
 "metadata": {
  "kernelspec": {
   "display_name": "Python 3 (ipykernel)",
   "language": "python",
   "name": "python3"
  },
  "language_info": {
   "codemirror_mode": {
    "name": "ipython",
    "version": 3
   },
   "file_extension": ".py",
   "mimetype": "text/x-python",
   "name": "python",
   "nbconvert_exporter": "python",
   "pygments_lexer": "ipython3",
   "version": "3.10.9"
  }
 },
 "nbformat": 4,
 "nbformat_minor": 5
}
