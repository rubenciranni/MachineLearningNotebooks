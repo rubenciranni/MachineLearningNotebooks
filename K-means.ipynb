{
 "cells": [
  {
   "cell_type": "markdown",
   "id": "5b7cedc8",
   "metadata": {},
   "source": [
    "# K-means and PCA for handwritten digits clustering"
   ]
  },
  {
   "cell_type": "code",
   "execution_count": 1,
   "id": "db08245d",
   "metadata": {
    "jupyter": {
     "source_hidden": true
    },
    "tags": []
   },
   "outputs": [],
   "source": [
    "import numpy as np\n",
    "import matplotlib.pyplot as plt\n",
    "from sklearn.datasets import load_digits\n",
    "from sklearn.model_selection import train_test_split"
   ]
  },
  {
   "cell_type": "markdown",
   "id": "66010197",
   "metadata": {},
   "source": [
    "## Importing the dataset"
   ]
  },
  {
   "cell_type": "code",
   "execution_count": 2,
   "id": "08c04c61-b3b5-4632-9200-b725a294c825",
   "metadata": {},
   "outputs": [
    {
     "data": {
      "image/png": "[encoded data removed]",
      "text/plain": [
       "<Figure size 500x600 with 25 Axes>"
      ]
     },
     "metadata": {},
     "output_type": "display_data"
    }
   ],
   "source": [
    "digits = load_digits()\n",
    "fig, axs = plt.subplots(5, 5, figsize=(5,6))\n",
    "idxs = np.random.choice(digits.data.shape[0], 25)\n",
    "\n",
    "for i, idx in enumerate(idxs):\n",
    "    ax = axs[i//5,i%5]\n",
    "    ax.tick_params(left = False, right = False , labelleft = False ,\n",
    "                labelbottom = False, bottom = False)\n",
    "    ax.imshow(digits.images[idx], cmap=\"gray\")\n",
    "    ax.set_title(digits.target[idx])\n",
    "    \n",
    "plt.show()"
   ]
  },
  {
   "cell_type": "markdown",
   "id": "c40111ac-1fd7-41d7-8976-20fdea042e6f",
   "metadata": {},
   "source": [
    "## Applying PCA for dimensionality reduction"
   ]
  },
  {
   "cell_type": "markdown",
   "id": "df41c39f-af42-480f-a710-151af6ca58c1",
   "metadata": {},
   "source": [
    "### Centering the dataset"
   ]
  },
  {
   "cell_type": "code",
   "execution_count": 3,
   "id": "6fb8a5f2-57a7-4d82-8dcf-9757e5bb194f",
   "metadata": {},
   "outputs": [],
   "source": [
    "ctd_data = digits.data - digits.data.mean(axis=0).reshape(1,-1)"
   ]
  },
  {
   "cell_type": "markdown",
   "id": "f016641f-8a35-4716-b8ed-11cc054d6370",
   "metadata": {},
   "source": [
    "### Applying SVD on the dataset matrix"
   ]
  },
  {
   "cell_type": "code",
   "execution_count": 4,
   "id": "36193788-371e-4d7e-b424-db8cc0581194",
   "metadata": {},
   "outputs": [],
   "source": [
    "u, s, vh = np.linalg.svd(ctd_data)\n",
    "n_components = 39\n",
    "v_reduced = vh.T[:,:n_components]"
   ]
  },
  {
   "cell_type": "code",
   "execution_count": 5,
   "id": "90ba31dc-2775-4e5c-9636-597d9f41241e",
   "metadata": {},
   "outputs": [
    {
     "name": "stdout",
     "output_type": "stream",
     "text": [
      "Amount of variance captured: 99%\n"
     ]
    }
   ],
   "source": [
    "l = s**2 / ctd_data.shape[0]\n",
    "print(f\"Amount of variance captured: {round(sum(l[:n_components])/sum(l)*100)}%\")"
   ]
  },
  {
   "cell_type": "code",
   "execution_count": 6,
   "id": "f07006a3-7872-43e1-a65f-2f1b378e8229",
   "metadata": {},
   "outputs": [],
   "source": [
    "low_dimensional_code = ctd_data @ v_reduced"
   ]
  },
  {
   "cell_type": "markdown",
   "id": "96c77b68-3d37-4b43-89c6-4a38fe5a8944",
   "metadata": {},
   "source": [
    "## Applying K-means on the low dimensional code for clustering"
   ]
  },
  {
   "cell_type": "code",
   "execution_count": 16,
   "id": "3c76d9e1-da5f-47d8-9517-075518e7f030",
   "metadata": {},
   "outputs": [],
   "source": [
    "def kmeans(data, n_clusters):\n",
    "    np.random.seed(0)  # make the method deterministic\n",
    "    iter = 1\n",
    "    \n",
    "    centers = init(data, n_clusters)\n",
    "    \n",
    "    while True:\n",
    "        # Assignment step \n",
    "        y_assignments = get_assignments(data, centers)\n",
    "        \n",
    "        # Update step\n",
    "        new_centers = update_centers(data, y_assignments, n_clusters)\n",
    "        \n",
    "        # Check for convergence\n",
    "        if np.allclose(centers, new_centers):\n",
    "            break\n",
    "        # update cluster for next iter\n",
    "        centers = new_centers\n",
    "        \n",
    "        print(f'Iteration {iter}')\n",
    "        iter += 1\n",
    "    \n",
    "    return centers, y_assignments\n",
    "\n",
    "def init(data, n_clusters):\n",
    "    idx = np.random.choice(data.shape[0], n_clusters)\n",
    "    return data[idx]\n",
    "\n",
    "def get_assignments(data, centers):\n",
    "    \n"
   ]
  },
  {
   "cell_type": "code",
   "execution_count": 17,
   "id": "5d7258ff-fcd5-44eb-a5d2-ec6ff8c603c5",
   "metadata": {},
   "outputs": [],
   "source": [
    "X_train, X_test, y_train, y_test = train_test_split(digits.data,digits.target, test_size=0.1,\n",
    "                                                    random_state=0, stratify=digits.target)"
   ]
  }
 ],
 "metadata": {
  "kernelspec": {
   "display_name": "Python 3 (ipykernel)",
   "language": "python",
   "name": "python3"
  },
  "language_info": {
   "codemirror_mode": {
    "name": "ipython",
    "version": 3
   },
   "file_extension": ".py",
   "mimetype": "text/x-python",
   "name": "python",
   "nbconvert_exporter": "python",
   "pygments_lexer": "ipython3",
   "version": "3.10.9"
  }
 },
 "nbformat": 4,
 "nbformat_minor": 5
}
