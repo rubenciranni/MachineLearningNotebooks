{
 "cells": [
  {
   "cell_type": "code",
   "execution_count": 1,
   "id": "f08adaac",
   "metadata": {},
   "outputs": [],
   "source": [
    "import numpy as np\n",
    "import matplotlib.pyplot as plt\n",
    "from sklearn.datasets import load_digits\n",
    "from sklearn.model_selection import GridSearchCV\n",
    "from sklearn.model_selection import train_test_split\n",
    "from sklearn.metrics import accuracy_score\n",
    "from sklearn.decomposition import PCA\n",
    "from sklearn.neighbors import KNeighborsClassifier"
   ]
  },
  {
   "cell_type": "markdown",
   "id": "0565c3ba",
   "metadata": {},
   "source": [
    "## Loading the dataset"
   ]
  },
  {
   "cell_type": "code",
   "execution_count": 2,
   "id": "81066192",
   "metadata": {},
   "outputs": [
    {
     "data": {
      "image/png": "[encoded data removed]",
      "text/plain": [
       "<Figure size 500x600 with 25 Axes>"
      ]
     },
     "metadata": {},
     "output_type": "display_data"
    }
   ],
   "source": [
    "digits = load_digits()\n",
    "fig, axs = plt.subplots(5, 5, figsize=(5,6))\n",
    "idxs = np.random.choice(digits.data.shape[0], 25)\n",
    "\n",
    "for i, idx in enumerate(idxs):\n",
    "    ax = axs[i//5,i%5]\n",
    "    ax.tick_params(left = False, right = False , labelleft = False ,\n",
    "                labelbottom = False, bottom = False)\n",
    "    ax.imshow(digits.images[idx], cmap=\"gray\")\n",
    "    ax.set_title(digits.target[idx])\n",
    "    \n",
    "plt.show()"
   ]
  },
  {
   "cell_type": "markdown",
   "id": "5a858e05",
   "metadata": {},
   "source": [
    "## Applying PCA"
   ]
  },
  {
   "cell_type": "code",
   "execution_count": 3,
   "id": "abb187e4",
   "metadata": {},
   "outputs": [],
   "source": [
    "X_train, X_test, y_train, y_test = train_test_split(digits.data, digits.target, test_size = 0.2)"
   ]
  },
  {
   "cell_type": "code",
   "execution_count": 4,
   "id": "088c55c9",
   "metadata": {},
   "outputs": [],
   "source": [
    "pca = PCA(n_components = 30)"
   ]
  },
  {
   "cell_type": "code",
   "execution_count": 5,
   "id": "7e3f327a",
   "metadata": {},
   "outputs": [],
   "source": [
    "X_train_low_dimensional = pca.fit_transform(X_train)\n",
    "X_test_low_dimensional = pca.transform(X_test)"
   ]
  },
  {
   "cell_type": "code",
   "execution_count": 6,
   "id": "725fba65",
   "metadata": {},
   "outputs": [
    {
     "name": "stdout",
     "output_type": "stream",
     "text": [
      "Amount of variance captured: 96%\n"
     ]
    }
   ],
   "source": [
    "print(f\"Amount of variance captured: {round(sum(pca.explained_variance_ratio_*100))}%\")"
   ]
  },
  {
   "cell_type": "markdown",
   "id": "690dde93",
   "metadata": {},
   "source": [
    "## Applying K-NN using Grid Search to select the hyperparameter k"
   ]
  },
  {
   "cell_type": "code",
   "execution_count": 7,
   "id": "809f755e",
   "metadata": {},
   "outputs": [],
   "source": [
    "parameters = {'n_neighbors':tuple(range(1, 11))}\n",
    "knn = KNeighborsClassifier()\n",
    "knn = GridSearchCV(knn, parameters).fit(X_train_low_dimensional, y_train)"
   ]
  },
  {
   "cell_type": "code",
   "execution_count": 8,
   "id": "cb987c7a",
   "metadata": {},
   "outputs": [],
   "source": [
    "y_pred = knn.predict(X_test_low_dimensional)"
   ]
  },
  {
   "cell_type": "code",
   "execution_count": 9,
   "id": "9a059832",
   "metadata": {},
   "outputs": [],
   "source": [
    "accuracy = accuracy_score(y_pred, y_test)"
   ]
  },
  {
   "cell_type": "code",
   "execution_count": 10,
   "id": "f4533af8",
   "metadata": {},
   "outputs": [
    {
     "data": {
      "text/plain": [
       "0.9916666666666667"
      ]
     },
     "execution_count": 10,
     "metadata": {},
     "output_type": "execute_result"
    }
   ],
   "source": [
    "accuracy"
   ]
  }
 ],
 "metadata": {
  "kernelspec": {
   "display_name": "Python 3 (ipykernel)",
   "language": "python",
   "name": "python3"
  },
  "language_info": {
   "codemirror_mode": {
    "name": "ipython",
    "version": 3
   },
   "file_extension": ".py",
   "mimetype": "text/x-python",
   "name": "python",
   "nbconvert_exporter": "python",
   "pygments_lexer": "ipython3",
   "version": "3.10.9"
  }
 },
 "nbformat": 4,
 "nbformat_minor": 5
}
